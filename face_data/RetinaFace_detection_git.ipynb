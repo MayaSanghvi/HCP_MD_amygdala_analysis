{
 "cells": [
  {
   "cell_type": "code",
   "execution_count": null,
   "id": "7a26197d-b009-4b4b-a6a3-1ccdea90ffd2",
   "metadata": {},
   "outputs": [],
   "source": [
    "## RetinaFace\n",
    "\n",
    "# load CUDA so PyTorch will build for the right version\n",
    "module load conda/23.11.0      # or whatever is in `module avail` in cuda\n",
    "\n",
    "# create and activate a conda env\n",
    "conda create -n facedet python=3.10 -y\n",
    "conda activate facedet\n",
    "\n",
    "# install InsightFace + CPU ONNX Runtime + OpenCV\n",
    "conda install -c conda-forge insightface onnxruntime opencv pandas tqdm -y"
   ]
  },
  {
   "cell_type": "code",
   "execution_count": null,
   "id": "9954ed5b-6a45-450e-a451-85ab793700a4",
   "metadata": {},
   "outputs": [],
   "source": [
    "mkdir -p frames/movie1\n",
    "ffmpeg -i movie1.mp4 -vf fps=1 frames/movie1/%05d.jpg"
   ]
  },
  {
   "cell_type": "code",
   "execution_count": null,
   "id": "3bd77402-f39e-4697-a288-61eb8d94cccd",
   "metadata": {},
   "outputs": [],
   "source": [
    "#verify the instalation\n",
    "\n",
    "python - <<'PY'\n",
    "from insightface.app import FaceAnalysis\n",
    "import onnxruntime as ort, cv2, numpy as np, os, sys\n",
    "print(\"InsightFace version:\", sys.modules['insightface'].__version__)\n",
    "print(\"ONNX Runtime providers:\", ort.get_available_providers())\n",
    "app = FaceAnalysis(name='buffalo_l', providers=['CPUExecutionProvider'])\n",
    "app.prepare(det_size=(640,640))\n",
    "print(\"Loaded detection model OK ✔\")\n",
    "PY\n"
   ]
  },
  {
   "cell_type": "code",
   "execution_count": null,
   "id": "f8cbce09-44a4-4039-acc2-28ffd2d504b9",
   "metadata": {},
   "outputs": [],
   "source": [
    "#make project tree\n",
    "\n",
    "mkdir -p ~/face_detect_project/{videos,frames,results,scripts,logs}\n",
    "cd ~/face_detect_project"
   ]
  },
  {
   "cell_type": "code",
   "execution_count": null,
   "id": "581979fb-0b10-4d48-826e-20e9f24537f7",
   "metadata": {},
   "outputs": [],
   "source": [
    "# pull in movies \n",
    "\n",
    "# movies live in ~/Desktop/Post_20140821_version/ on my desktop (you will need to house the movies)\n",
    "ln -s ~/Desktop/Post_20140821_version/*.mp4 videos/\n",
    "ls videos                   # sanity‑check: should list your .mp4 files"
   ]
  },
  {
   "cell_type": "code",
   "execution_count": null,
   "id": "da5b0591-9de7-4ec9-af60-1dbdb9c33c14",
   "metadata": {},
   "outputs": [],
   "source": [
    "# the detection script \n",
    "\n",
    "cat > scripts/detect_faces.py <<'PY'\n",
    "\n",
    "#!/usr/bin/env python3\n",
    "import cv2, glob, os, argparse, pandas as pd, tqdm\n",
    "from insightface.app import FaceAnalysis\n",
    "\n",
    "p = argparse.ArgumentParser()\n",
    "p.add_argument(\"--frames_dir\", required=True)\n",
    "p.add_argument(\"--out_csv\",    required=True)\n",
    "args = p.parse_args()\n",
    "\n",
    "app = FaceAnalysis(name='buffalo_l', providers=['CPUExecutionProvider'])\n",
    "app.prepare(ctx_id=-1, det_size=(640,640))\n",
    "\n",
    "rows = []\n",
    "for jpg in tqdm.tqdm(sorted(glob.glob(os.path.join(args.frames_dir, '*.jpg')))):\n",
    "    sec = int(os.path.basename(jpg)[:-4])\n",
    "    img = cv2.imread(jpg)\n",
    "    h, w = img.shape[:2]\n",
    "    faces = app.get(img)\n",
    "    face_px = sum((f.bbox[2]-f.bbox[0])*(f.bbox[3]-f.bbox[1]) for f in faces)\n",
    "    rows.append([sec, bool(faces), len(faces), face_px/(h*w)])\n",
    "\n",
    "pd.DataFrame(rows, columns=['sec','face_present','num_faces','face_area']).to_csv(\n",
    "    args.out_csv, index=False)\n",
    "PY\n",
    "chmod +x scripts/detect_faces.py\n"
   ]
  },
  {
   "cell_type": "code",
   "execution_count": null,
   "id": "2f420207-6241-4bc3-8f41-5a3c2d2ea654",
   "metadata": {},
   "outputs": [],
   "source": [
    "#Slurm batch template \n",
    "\n",
    "cat > scripts/run_faces.sbatch <<'SB'\n",
    "#!/bin/bash\n",
    "#SBATCH --job-name=faces_${1}\n",
    "#SBATCH --partition=Main          # CPU queue\n",
    "#SBATCH --cpus-per-task=8\n",
    "#SBATCH --time=01:30:00\n",
    "#SBATCH --mem=10G\n",
    "#SBATCH --output=logs/faces_${1}.%j.log\n",
    "\n",
    "module load conda/23.11.0\n",
    "conda activate facedet\n",
    "\n",
    "python scripts/detect_faces.py \\\n",
    "       --frames_dir frames/${1} \\\n",
    "       --out_csv    results/${1}_faces.csv\n",
    "SB"
   ]
  },
  {
   "cell_type": "code",
   "execution_count": null,
   "id": "2ebfe925-f2cc-4d2a-bfaa-4320bdf5eba8",
   "metadata": {},
   "outputs": [],
   "source": [
    "# extract 1‑fps frames\n",
    "module load ffmpeg/2203           # if ffmpeg isn’t already on the PATH\n",
    "for f in videos/*.mp4; do\n",
    "  name=$(basename \"$f\" .mp4)\n",
    "  mkdir -p frames/\"$name\"\n",
    "  ffmpeg -i \"$f\" -vf fps=1 frames/\"$name\"/%05d.jpg\n",
    "done\n",
    "\n",
    "# launch detection script\n",
    "mkdir -p logs results\n",
    "for f in videos/*.mp4; do\n",
    "  name=$(basename \"$f\" .mp4)\n",
    "  sbatch scripts/run_faces.sbatch \"$name\"\n",
    "done\n"
   ]
  },
  {
   "cell_type": "code",
   "execution_count": null,
   "id": "1b7586da-2f6d-483b-ac6d-5a9602355baf",
   "metadata": {},
   "outputs": [],
   "source": [
    "#monitor progress\n",
    "\n",
    "squeue -u $USER\n",
    "tail -f logs/faces_*.log      # Ctrl‑C to stop tailing\n",
    "\n",
    "#verify output when job is done \n",
    "\n",
    "head results/*_faces.csv | column -t -s,"
   ]
  },
  {
   "cell_type": "code",
   "execution_count": null,
   "id": "ea87d377-0b42-4079-aaa4-660e2d0ce039",
   "metadata": {},
   "outputs": [],
   "source": [
    "#finally, save movies to desktop \n",
    "\n",
    "# copy every per‑movie CSV\n",
    "scp ms16@login-k01.hpc.youruni.edu:~/face_detect_project/results/*_faces.csv ."
   ]
  }
 ],
 "metadata": {
  "kernelspec": {
   "display_name": "Python 3 (ipykernel)",
   "language": "python",
   "name": "python3"
  },
  "language_info": {
   "codemirror_mode": {
    "name": "ipython",
    "version": 3
   },
   "file_extension": ".py",
   "mimetype": "text/x-python",
   "name": "python",
   "nbconvert_exporter": "python",
   "pygments_lexer": "ipython3",
   "version": "3.10.5"
  }
 },
 "nbformat": 4,
 "nbformat_minor": 5
}
