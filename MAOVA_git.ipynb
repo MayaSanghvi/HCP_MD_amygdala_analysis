{
 "cells": [
  {
   "cell_type": "code",
   "execution_count": 2,
   "id": "54586237-4988-4f54-9fde-3d8222b5ae8b",
   "metadata": {},
   "outputs": [
    {
     "name": "stdout",
     "output_type": "stream",
     "text": [
      "                   Multivariate linear model\n",
      "================================================================\n",
      "                                                                \n",
      "----------------------------------------------------------------\n",
      "       Intercept         Value   Num DF  Den DF  F Value  Pr > F\n",
      "----------------------------------------------------------------\n",
      "          Wilks' lambda  0.0412 40.0000 212.0000 123.2120 0.0000\n",
      "         Pillai's trace  0.9588 40.0000 212.0000 123.2120 0.0000\n",
      " Hotelling-Lawley trace 23.2475 40.0000 212.0000 123.2120 0.0000\n",
      "    Roy's greatest root 23.2475 40.0000 212.0000 123.2120 0.0000\n",
      "----------------------------------------------------------------\n",
      "                                                                \n",
      "----------------------------------------------------------------\n",
      "         label_e         Value   Num DF   Den DF  F Value Pr > F\n",
      "----------------------------------------------------------------\n",
      "           Wilks' lambda 0.3397 120.0000 636.0351  2.3001 0.0000\n",
      "          Pillai's trace 0.8783 120.0000 642.0000  2.2148 0.0000\n",
      "  Hotelling-Lawley trace 1.3568 120.0000 575.9222  2.3828 0.0000\n",
      "     Roy's greatest root 0.7269  40.0000 214.0000  3.8891 0.0000\n",
      "================================================================\n",
      "\n"
     ]
    }
   ],
   "source": [
    "import pandas as pd\n",
    "import re\n",
    "from statsmodels.multivariate.manova import MANOVA\n",
    "\n",
    "# 1. Read in\n",
    "df = pd.read_csv(\"cols_named_all_data_for_LDA.csv\")\n",
    "\n",
    "# 2. Make sure label_e is categorical\n",
    "df['label_e'] = df['label_e'].astype('category')\n",
    "\n",
    "# 3. Sanitize all column names: replace any non-word character with underscore\n",
    "df.columns = [re.sub(r'\\W+', '_', col) for col in df.columns]\n",
    "\n",
    "# 4. Now build your response list & formula\n",
    "response_cols = [c for c in df.columns if c != 'label_e']\n",
    "formula = ' + '.join(response_cols) + ' ~ label_e'\n",
    "\n",
    "# 5. Fit the MANOVA\n",
    "maov = MANOVA.from_formula(formula, data=df)\n",
    "print(maov.mv_test())"
   ]
  },
  {
   "cell_type": "code",
   "execution_count": 4,
   "id": "ad0ce638-1eb7-440e-9dcc-c23e3fbce344",
   "metadata": {},
   "outputs": [
    {
     "name": "stdout",
     "output_type": "stream",
     "text": [
      "     Chi2      df  pval  equal_cov\n",
      "box   inf  2460.0   0.0      False\n"
     ]
    },
    {
     "name": "stderr",
     "output_type": "stream",
     "text": [
      "/Users/mayasanghvi/myenv/lib/python3.10/site-packages/pingouin/multivariate.py:386: RuntimeWarning: divide by zero encountered in log\n",
      "  u = -2 * (1 - c) * np.log(M)\n"
     ]
    }
   ],
   "source": [
    "import pingouin as pg\n",
    "\n",
    "# Assuming you already have:\n",
    "# df, response_cols = [ all numeric column names ], and df['label_e'] categorical.\n",
    "\n",
    "# Call box_m with the right arguments\n",
    "boxm = pg.box_m(\n",
    "    data=df, \n",
    "    dvs=response_cols, \n",
    "    group='label_e'\n",
    ")\n",
    "\n",
    "print(boxm)\n"
   ]
  },
  {
   "cell_type": "code",
   "execution_count": 5,
   "id": "e3ce4b79-0af7-4fd8-bf9e-2279d4543322",
   "metadata": {},
   "outputs": [
    {
     "name": "stdout",
     "output_type": "stream",
     "text": [
      "Portrayed_Valence: W=0.990, p=0.0615\n",
      "Portrayed_Arousal: W=0.993, p=0.289\n",
      "Admiration: W=0.844, p=2.36e-15\n",
      "Anger_Rage: W=0.608, p=9.28e-24\n",
      "Compassion: W=0.657, p=1.97e-22\n",
      "Contempt: W=0.722, p=2.18e-20\n",
      "Disappointment: W=0.683, p=1.19e-21\n",
      "Fear: W=0.732, p=4.9e-20\n",
      "Fear_Confirmed: W=0.484, p=1.17e-26\n",
      "Gloating: W=0.470, p=6.21e-27\n",
      "Gratification: W=0.656, p=1.88e-22\n",
      "Gratitude: W=0.649, p=1.21e-22\n",
      "Happiness: W=0.803, p=2.6e-17\n",
      "Happy_For: W=0.637, p=5.68e-23\n",
      "Hate: W=0.585, p=2.46e-24\n",
      "Hope: W=0.776, p=2.12e-18\n",
      "Love: W=0.701, p=4.29e-21\n",
      "Pride: W=0.723, p=2.32e-20\n",
      "Relief: W=0.542, p=2.22e-25\n",
      "Remorse: W=0.507, p=3.6e-26\n",
      "Resentment: W=0.604, p=7.49e-24\n",
      "Sadness: W=0.648, p=1.11e-22\n",
      "Satisfaction: W=0.731, p=4.23e-20\n",
      "Shame: W=0.539, p=1.94e-25\n",
      "Viewer_Valence: W=0.988, p=0.0364\n",
      "Viewer_Arousal: W=0.983, p=0.00351\n",
      "Viewer_Thinking: W=0.985, p=0.00726\n",
      "Viewer_Interested_Engaged: W=0.974, p=0.000137\n",
      "Viewer_Amused: W=0.862, p=2.11e-14\n",
      "Viewer_Happy: W=0.825, p=2.56e-16\n",
      "Viewer_Sad: W=0.623, p=2.23e-23\n",
      "Viewer_Surprised: W=0.760, p=4.92e-19\n",
      "Viewer_Angry: W=0.445, p=1.87e-27\n",
      "Viewer_Disgusted: W=0.465, p=4.78e-27\n",
      "Viewer_Fearful: W=0.616, p=1.47e-23\n",
      "Face_Present: W=0.852, p=6.58e-15\n",
      "Number_of_Faces: W=0.772, p=1.46e-18\n",
      "Face_Area: W=0.701, p=4.42e-21\n",
      "Music: W=nan, p=nan\n",
      "Speech: W=0.815, p=9.41e-17\n"
     ]
    }
   ],
   "source": [
    "#check univariate normality\n",
    "\n",
    "from scipy.stats import shapiro\n",
    "\n",
    "for col in response_cols:\n",
    "    stat, p = shapiro(df[col])\n",
    "    print(f\"{col}: W={stat:.3f}, p={p:.3g}\")\n"
   ]
  },
  {
   "cell_type": "code",
   "execution_count": 7,
   "id": "d3da3193-d2ed-4143-8c99-be4cdf953851",
   "metadata": {},
   "outputs": [
    {
     "name": "stdout",
     "output_type": "stream",
     "text": [
      "Value      0.878324\n",
      "Num DF        120.0\n",
      "Den DF        642.0\n",
      "F Value    2.214775\n",
      "Pr > F          0.0\n",
      "Name: Pillai's trace, dtype: object\n"
     ]
    }
   ],
   "source": [
    "print(maov.mv_test().results['label_e']['stat'].loc['Pillai\\'s trace'])\n"
   ]
  },
  {
   "cell_type": "code",
   "execution_count": 9,
   "id": "171c6388-e13b-4c3a-91db-dca0e26d4a8a",
   "metadata": {},
   "outputs": [
    {
     "name": "stdout",
     "output_type": "stream",
     "text": [
      "                   Multivariate linear model\n",
      "================================================================\n",
      "                                                                \n",
      "----------------------------------------------------------------\n",
      "       Intercept         Value   Num DF  Den DF  F Value  Pr > F\n",
      "----------------------------------------------------------------\n",
      "          Wilks' lambda  0.0433 38.0000 214.0000 124.5586 0.0000\n",
      "         Pillai's trace  0.9567 38.0000 214.0000 124.5586 0.0000\n",
      " Hotelling-Lawley trace 22.1179 38.0000 214.0000 124.5586 0.0000\n",
      "    Roy's greatest root 22.1179 38.0000 214.0000 124.5586 0.0000\n",
      "----------------------------------------------------------------\n",
      "                                                                \n",
      "----------------------------------------------------------------\n",
      "         label_e         Value   Num DF   Den DF  F Value Pr > F\n",
      "----------------------------------------------------------------\n",
      "           Wilks' lambda 0.3593 114.0000 641.9264  2.2938 0.0000\n",
      "          Pillai's trace 0.8415 114.0000 648.0000  2.2159 0.0000\n",
      "  Hotelling-Lawley trace 1.2690 114.0000 579.2417  2.3681 0.0000\n",
      "     Roy's greatest root 0.6606  38.0000 216.0000  3.7548 0.0000\n",
      "================================================================\n",
      "\n"
     ]
    }
   ],
   "source": [
    "import pandas as pd\n",
    "import re\n",
    "from statsmodels.multivariate.manova import MANOVA\n",
    "\n",
    "# 1. Read in\n",
    "df = pd.read_csv(\"cols_named_all_data_minus_num_face.csv\")\n",
    "\n",
    "# 2. Make sure label_e is categorical\n",
    "df['label_e'] = df['label_e'].astype('category')\n",
    "\n",
    "# 3. Sanitize all column names: replace any non-word character with underscore\n",
    "df.columns = [re.sub(r'\\W+', '_', col) for col in df.columns]\n",
    "\n",
    "# 4. Now build your response list & formula\n",
    "response_cols = [c for c in df.columns if c != 'label_e']\n",
    "formula = ' + '.join(response_cols) + ' ~ label_e'\n",
    "\n",
    "# 5. Fit the MANOVA\n",
    "maov = MANOVA.from_formula(formula, data=df)\n",
    "print(maov.mv_test())"
   ]
  },
  {
   "cell_type": "code",
   "execution_count": null,
   "id": "735d120e-d85a-4911-ae13-db45aa2d0774",
   "metadata": {},
   "outputs": [],
   "source": []
  }
 ],
 "metadata": {
  "kernelspec": {
   "display_name": "Python 3 (ipykernel)",
   "language": "python",
   "name": "python3"
  },
  "language_info": {
   "codemirror_mode": {
    "name": "ipython",
    "version": 3
   },
   "file_extension": ".py",
   "mimetype": "text/x-python",
   "name": "python",
   "nbconvert_exporter": "python",
   "pygments_lexer": "ipython3",
   "version": "3.10.5"
  }
 },
 "nbformat": 4,
 "nbformat_minor": 5
}
