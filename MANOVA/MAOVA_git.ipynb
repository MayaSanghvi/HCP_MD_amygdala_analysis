## EXECUTE MANOVA on all data 

import pandas as pd
import re
from statsmodels.multivariate.manova import MANOVA

# 1. Read in
df = pd.read_csv("all_data_for_MANOVA_git.csv")

# 2. Make sure label_e is categorical
df['label_e'] = df['label_e'].astype('category')

# 3. Sanitize all column names: replace any non-word character with underscore
df.columns = [re.sub(r'\W+', '_', col) for col in df.columns]

# 4. Now build the response list & formula
response_cols = [c for c in df.columns if c != 'label_e']
formula = ' + '.join(response_cols) + ' ~ label_e'

# 5. Fit the MANOVA
maov = MANOVA.from_formula(formula, data=df)
print(maov.mv_test())



#check univariate normality (in theory can do this before you run the MANOVA)

from scipy.stats import shapiro

for col in response_cols:
    stat, p = shapiro(df[col])
    print(f"{col}: W={stat:.3f}, p={p:.3g}")
