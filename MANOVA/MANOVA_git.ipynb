{
 "cells": [
  {
   "cell_type": "code",
   "execution_count": null,
   "id": "f3eaff70-8e9c-4b28-8313-3f909d5a6aba",
   "metadata": {},
   "outputs": [],
   "source": [
    "#before the MANOVA, check univariate normality\n",
    "\n",
    "from scipy.stats import shapiro\n",
    "\n",
    "for col in response_cols:\n",
    "    stat, p = shapiro(df[col])\n",
    "    print(f\"{col}: W={stat:.3f}, p={p:.3g}\")"
   ]
  },
  {
   "cell_type": "code",
   "execution_count": null,
   "id": "735d120e-d85a-4911-ae13-db45aa2d0774",
   "metadata": {},
   "outputs": [],
   "source": [
    "# then execute the MANOVA across the two ROIs\n",
    "# this should output stats for both amygdala and MD\n",
    "\n",
    "import pandas as pd\n",
    "import re\n",
    "from statsmodels.multivariate.manova import MANOVA\n",
    "\n",
    "# 1. Read in\n",
    "df = pd.read_csv(\"all_data_for_LDA.csv\")\n",
    "\n",
    "# 2. Make sure label_e is categorical\n",
    "df['label_e'] = df['label_e'].astype('category')\n",
    "\n",
    "# 3. Sanitize all column names\n",
    "df.columns = [re.sub(r'\\W+', '_', col) for col in df.columns]\n",
    "\n",
    "# 4. Define response variables, excluding label_e and movie_index\n",
    "response_cols = [c for c in df.columns if c not in ('label_e', 'movie_index')]\n",
    "\n",
    "def run_manova(df_subset, levels, name):\n",
    "    # a) Drop rows with any missing in responses or in label_e\n",
    "    df_clean = df_subset.dropna(subset=response_cols + ['label_e']).copy()\n",
    "    \n",
    "    # b) Remove unused categories so dummy‐coding only sees your two levels\n",
    "    df_clean['label_e'] = df_clean['label_e'].cat.remove_unused_categories()\n",
    "    \n",
    "    # c) Show how many cases per level\n",
    "    counts = df_clean['label_e'].value_counts()\n",
    "    print(f\"\\n{name} subset counts after cleaning:\\n{counts}\\n\")\n",
    "    if len(counts) < 2:\n",
    "        raise ValueError(f\"Only one level present in {name} after cleaning—cannot run MANOVA.\")\n",
    "    \n",
    "    # d) Build formula & fit\n",
    "    formula = ' + '.join(response_cols) + ' ~ label_e'\n",
    "    print(f\"=== MANOVA for {name} ({levels[0]} vs {levels[1]}) ===\")\n",
    "    maov = MANOVA.from_formula(formula, data=df_clean)\n",
    "    print(maov.mv_test())\n",
    "\n",
    "# 5. AM_high vs AM_low\n",
    "am_levels = ['AM_high', 'AM_low']\n",
    "df_am = df[df['label_e'].isin(am_levels)]\n",
    "run_manova(df_am, am_levels, \"AM\")\n",
    "\n",
    "# 6. MD_high vs MD_low\n",
    "md_levels = ['MD_high', 'MD_low']\n",
    "df_md = df[df['label_e'].isin(md_levels)]\n",
    "run_manova(df_md, md_levels, \"MD\")\n"
   ]
  }
 ],
 "metadata": {
  "kernelspec": {
   "display_name": "Python 3 (ipykernel)",
   "language": "python",
   "name": "python3"
  },
  "language_info": {
   "codemirror_mode": {
    "name": "ipython",
    "version": 3
   },
   "file_extension": ".py",
   "mimetype": "text/x-python",
   "name": "python",
   "nbconvert_exporter": "python",
   "pygments_lexer": "ipython3",
   "version": "3.10.5"
  }
 },
 "nbformat": 4,
 "nbformat_minor": 5
}
